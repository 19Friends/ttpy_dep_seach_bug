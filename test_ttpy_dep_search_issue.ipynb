{
 "cells": [
  {
   "cell_type": "code",
   "execution_count": 19,
   "outputs": [],
   "source": [
    "from dotenv import load_dotenv\n",
    "from traveltimepy import time_filter"
   ],
   "metadata": {
    "collapsed": false
   }
  },
  {
   "cell_type": "code",
   "execution_count": 10,
   "outputs": [
    {
     "data": {
      "text/plain": "True"
     },
     "execution_count": 10,
     "metadata": {},
     "output_type": "execute_result"
    }
   ],
   "source": [
    "load_dotenv()"
   ],
   "metadata": {
    "collapsed": false
   }
  },
  {
   "cell_type": "code",
   "execution_count": 5,
   "outputs": [],
   "source": [
    "ttpy_locations = [{'id': 'Quäk4', \"coords\": {\"lng\": 13.30804, \"lat\": 52.57311}},\n",
    "                  {'id': 'Rudi29', \"coords\": {\"lng\": 13.39095, \"lat\": 52.50675}},\n",
    "                  {'id': 'Otis', \"coords\": {\"lat\": 52.57156, \"lng\": 13.30209}}]"
   ],
   "metadata": {
    "collapsed": false
   }
  },
  {
   "cell_type": "markdown",
   "source": [
    "Generate two searches with identical departure time, identical destination but two different origins"
   ],
   "metadata": {
    "collapsed": false
   }
  },
  {
   "cell_type": "code",
   "execution_count": 49,
   "outputs": [],
   "source": [
    "ttpy_dep_searches = [\n",
    "    {\n",
    "        \"id\": \"testsearch_dep_Quäk4\",\n",
    "        \"departure_location_id\": \"Quäk4\",\n",
    "        \"arrival_location_ids\": [\n",
    "            \"Rudi29\",\n",
    "        ],\n",
    "        \"departure_time\": \"2022-11-03T21:45:00+01:00\",\n",
    "        \"travel_time\": 3600,\n",
    "        \"properties\": [\n",
    "            \"travel_time\", \"route\", \"distance\"\n",
    "        ],\n",
    "        \"transportation\": {\n",
    "            \"type\": \"public_transport\",\n",
    "        },\n",
    "    },\n",
    "    {\n",
    "        \"id\": \"testsearch_dep_Otis\",\n",
    "        \"departure_location_id\": \"Otis\",\n",
    "        \"arrival_location_ids\": [\n",
    "            \"Rudi29\",\n",
    "        ],\n",
    "        \"departure_time\": \"2022-11-03T21:45:00+01:00\",\n",
    "        \"travel_time\": 3600,\n",
    "        \"properties\": [\n",
    "            \"travel_time\", \"route\", \"distance\"\n",
    "        ],\n",
    "        \"transportation\": {\n",
    "            \"type\": \"public_transport\",\n",
    "        },\n",
    "    }\n",
    "]"
   ],
   "metadata": {
    "collapsed": false
   }
  },
  {
   "cell_type": "code",
   "execution_count": 50,
   "outputs": [],
   "source": [
    "r = time_filter(locations=ttpy_locations, departure_searches=ttpy_dep_searches)"
   ],
   "metadata": {
    "collapsed": false
   }
  },
  {
   "cell_type": "markdown",
   "source": [
    "Filter the results for route parts using public transport for better comparability:"
   ],
   "metadata": {
    "collapsed": false
   }
  },
  {
   "cell_type": "code",
   "execution_count": 51,
   "outputs": [],
   "source": [
    "routes = list(route[\"route\"][\"parts\"] for result in r[\"results\"] for location in result[\"locations\"] for route in\n",
    "              location[\"properties\"])"
   ],
   "metadata": {
    "collapsed": false
   }
  },
  {
   "cell_type": "code",
   "execution_count": 60,
   "outputs": [],
   "source": [
    "public_transport_parts = [\n",
    "    [{key: value for key, value in p.items() if key != \"coords\"} for p in route if p[\"type\"] == \"public_transport\"] for\n",
    "    route in routes]"
   ],
   "metadata": {
    "collapsed": false
   }
  },
  {
   "cell_type": "markdown",
   "source": [
    "One search returns a route that first uses the line `U6` from `U Otisstr. (Berlin)` in the opposite direction back to `U Holzhauser Str. (Berlin)` where it boards another train of the `U6`that arrives at `U Kochstr./Checkpoint Charlie (Berlin)` at 22:17:"
   ],
   "metadata": {
    "collapsed": false
   }
  },
  {
   "cell_type": "code",
   "execution_count": 64,
   "outputs": [
    {
     "data": {
      "text/plain": "[{'id': 4,\n  'type': 'public_transport',\n  'mode': 'rail_underground',\n  'directions': \"Take a train (U6 (of Berliner Verkehrsbetriebe) line) from 'U Otisstr. (Berlin)' (leaves at 21:53) to 'U Holzhauser Str. (Berlin)' (arrives at 21:54) (1 stops)\",\n  'distance': 0,\n  'travel_time': 60,\n  'line': 'U6 (of Berliner Verkehrsbetriebe)',\n  'departure_station': 'U Otisstr. (Berlin)',\n  'arrival_station': 'U Holzhauser Str. (Berlin)',\n  'departs_at': '21:53',\n  'arrives_at': '21:54',\n  'num_stops': 1},\n {'id': 6,\n  'type': 'public_transport',\n  'mode': 'rail_underground',\n  'directions': \"Take a train (U6 (of Berliner Verkehrsbetriebe) line) from 'U Holzhauser Str. (Berlin)' (leaves at 21:56) to 'U Kochstr./Checkpoint Charlie (Berlin)' (arrives at 22:17) (16 stops)\",\n  'distance': 0,\n  'travel_time': 1337,\n  'line': 'U6 (of Berliner Verkehrsbetriebe)',\n  'departure_station': 'U Holzhauser Str. (Berlin)',\n  'arrival_station': 'U Kochstr./Checkpoint Charlie (Berlin)',\n  'departs_at': '21:56',\n  'arrives_at': '22:17',\n  'num_stops': 16}]"
     },
     "execution_count": 64,
     "metadata": {},
     "output_type": "execute_result"
    }
   ],
   "source": [
    "public_transport_parts[1]"
   ],
   "metadata": {
    "collapsed": false
   }
  },
  {
   "cell_type": "markdown",
   "source": [
    "The other search returns a route that directly boards a `U6` at `U Otisstr. (Berlin)` going to `U Kochstr./Checkpoint Charlie (Berlin)` where it also arrives at 22:17. That means, that for no reason the first connection leaves the origin early than necessary in order to first take a train going the wrong direction for one stop, deboard, and take the next train in the correct directio while it should have obviously been possible to leave the origin 4 minutes later without arriving later at the destination by boarding the right train immediately that also the other search is using. This looks like some unexpected behavior of the routing algorithm for departure searches to me."
   ],
   "metadata": {
    "collapsed": false
   }
  },
  {
   "cell_type": "code",
   "execution_count": 65,
   "outputs": [
    {
     "data": {
      "text/plain": "[{'id': 6,\n  'type': 'public_transport',\n  'mode': 'rail_underground',\n  'directions': \"Take a train (U6 (of Berliner Verkehrsbetriebe) line) from 'U Otisstr. (Berlin)' (leaves at 21:57) to 'U Kochstr./Checkpoint Charlie (Berlin)' (arrives at 22:17) (15 stops)\",\n  'distance': 0,\n  'travel_time': 1200,\n  'line': 'U6 (of Berliner Verkehrsbetriebe)',\n  'departure_station': 'U Otisstr. (Berlin)',\n  'arrival_station': 'U Kochstr./Checkpoint Charlie (Berlin)',\n  'departs_at': '21:57',\n  'arrives_at': '22:17',\n  'num_stops': 15}]"
     },
     "execution_count": 65,
     "metadata": {},
     "output_type": "execute_result"
    }
   ],
   "source": [
    "public_transport_parts[0]"
   ],
   "metadata": {
    "collapsed": false
   }
  },
  {
   "cell_type": "code",
   "execution_count": null,
   "outputs": [],
   "source": [],
   "metadata": {
    "collapsed": false
   }
  }
 ],
 "metadata": {
  "kernelspec": {
   "display_name": "Python 3",
   "language": "python",
   "name": "python3"
  },
  "language_info": {
   "codemirror_mode": {
    "name": "ipython",
    "version": 2
   },
   "file_extension": ".py",
   "mimetype": "text/x-python",
   "name": "python",
   "nbconvert_exporter": "python",
   "pygments_lexer": "ipython2",
   "version": "2.7.6"
  }
 },
 "nbformat": 4,
 "nbformat_minor": 0
}
